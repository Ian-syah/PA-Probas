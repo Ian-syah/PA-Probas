{
  "nbformat": 4,
  "nbformat_minor": 0,
  "metadata": {
    "colab": {
      "name": "PA-Probas.ipynb",
      "provenance": [],
      "collapsed_sections": [],
      "include_colab_link": true
    },
    "kernelspec": {
      "name": "python3",
      "display_name": "Python 3"
    }
  },
  "cells": [
    {
      "cell_type": "markdown",
      "metadata": {
        "id": "view-in-github",
        "colab_type": "text"
      },
      "source": [
        "<a href=\"https://colab.research.google.com/github/Ian-syah/PA-Probas/blob/main/PA_Probas.ipynb\" target=\"_parent\"><img src=\"https://colab.research.google.com/assets/colab-badge.svg\" alt=\"Open In Colab\"/></a>"
      ]
    },
    {
      "cell_type": "markdown",
      "metadata": {
        "id": "loRl5Fe1G_nV"
      },
      "source": [
        "\n",
        "# **Project Akhir Probabilitas dan Statistika**\n",
        "\n",
        "Dibuat oleh:\n",
        "```\n",
        "1915016069 / Delfan Rynaldo Laden\n",
        "1915016074 / Oktavian Yoga Syahputra\n",
        "```\n",
        "Kelas TI B'19\n",
        "\n",
        "\n",
        "\n",
        "Klik [disini](https://www.kaggle.com/hendratno/covid19-indonesia) untuk melihat sumber database\n",
        "\n"
      ]
    },
    {
      "cell_type": "code",
      "metadata": {
        "id": "rxQGeGnmJazr"
      },
      "source": [
        "from google.colab import drive\n",
        "drive.mount('root')"
      ],
      "execution_count": null,
      "outputs": []
    },
    {
      "cell_type": "markdown",
      "metadata": {
        "id": "RnYaBxNhbu6w"
      },
      "source": [
        "### Import semua Library"
      ]
    },
    {
      "cell_type": "code",
      "metadata": {
        "id": "bxURusP65cUE"
      },
      "source": [
        "import pandas as pd \n",
        "import matplotlib.pyplot as plt\n",
        "import numpy as np\n",
        "from scipy.stats import pearsonr\n",
        "from scipy import stats"
      ],
      "execution_count": null,
      "outputs": []
    },
    {
      "cell_type": "markdown",
      "metadata": {
        "id": "U6K0PdCrb0Nl"
      },
      "source": [
        "### Memanggil DataSet"
      ]
    },
    {
      "cell_type": "code",
      "metadata": {
        "id": "ORto4pnJXZDE",
        "colab": {
          "base_uri": "https://localhost:8080/",
          "height": 238
        },
        "outputId": "bfddcbbd-27e2-4104-e652-ee357f3f1c38"
      },
      "source": [
        "data_covid = pd.read_csv('/content/Data-Covid19.csv')\n",
        "\n",
        "X = data_covid.iloc[:, 3] # Ini Kesembuhan Baru\n",
        "Y = data_covid.iloc[:, 2] # Ini Kematian Baru\n",
        "\n",
        "# Kasus Aktif Baru = Kasus Baru - (Kesembuhan Baru + Kematian Baru)\n",
        "\n",
        "data_covid"
      ],
      "execution_count": null,
      "outputs": [
        {
          "output_type": "execute_result",
          "data": {
            "text/html": [
              "<div>\n",
              "<style scoped>\n",
              "    .dataframe tbody tr th:only-of-type {\n",
              "        vertical-align: middle;\n",
              "    }\n",
              "\n",
              "    .dataframe tbody tr th {\n",
              "        vertical-align: top;\n",
              "    }\n",
              "\n",
              "    .dataframe thead th {\n",
              "        text-align: right;\n",
              "    }\n",
              "</style>\n",
              "<table border=\"1\" class=\"dataframe\">\n",
              "  <thead>\n",
              "    <tr style=\"text-align: right;\">\n",
              "      <th></th>\n",
              "      <th>1</th>\n",
              "      <th>Donald Trump</th>\n",
              "      <th>Ricahrd</th>\n",
              "      <th>Republik</th>\n",
              "      <th>0</th>\n",
              "    </tr>\n",
              "  </thead>\n",
              "  <tbody>\n",
              "    <tr>\n",
              "      <th>0</th>\n",
              "      <td>2</td>\n",
              "      <td>Ipan</td>\n",
              "      <td>Syahril</td>\n",
              "      <td>Mexicano</td>\n",
              "      <td>0</td>\n",
              "    </tr>\n",
              "    <tr>\n",
              "      <th>1</th>\n",
              "      <td>3</td>\n",
              "      <td>Leng</td>\n",
              "      <td>lung</td>\n",
              "      <td>Long</td>\n",
              "      <td>0</td>\n",
              "    </tr>\n",
              "    <tr>\n",
              "      <th>2</th>\n",
              "      <td>4</td>\n",
              "      <td>aa</td>\n",
              "      <td>aa</td>\n",
              "      <td>aa</td>\n",
              "      <td>0</td>\n",
              "    </tr>\n",
              "    <tr>\n",
              "      <th>3</th>\n",
              "      <td>5</td>\n",
              "      <td>bb</td>\n",
              "      <td>bb</td>\n",
              "      <td>bb</td>\n",
              "      <td>2</td>\n",
              "    </tr>\n",
              "    <tr>\n",
              "      <th>4</th>\n",
              "      <td>6</td>\n",
              "      <td>koko</td>\n",
              "      <td>koko</td>\n",
              "      <td>lqlq</td>\n",
              "      <td>1</td>\n",
              "    </tr>\n",
              "    <tr>\n",
              "      <th>5</th>\n",
              "      <td>7</td>\n",
              "      <td>adwa</td>\n",
              "      <td>awdad</td>\n",
              "      <td>adawd</td>\n",
              "      <td>0</td>\n",
              "    </tr>\n",
              "  </tbody>\n",
              "</table>\n",
              "</div>"
            ],
            "text/plain": [
              "   1 Donald Trump  Ricahrd  Republik  0\n",
              "0  2         Ipan  Syahril  Mexicano  0\n",
              "1  3         Leng     lung      Long  0\n",
              "2  4           aa       aa        aa  0\n",
              "3  5           bb       bb        bb  2\n",
              "4  6         koko     koko      lqlq  1\n",
              "5  7         adwa    awdad     adawd  0"
            ]
          },
          "metadata": {
            "tags": []
          },
          "execution_count": 17
        }
      ]
    },
    {
      "cell_type": "markdown",
      "metadata": {
        "id": "PJrjkGqGuW2c"
      },
      "source": [
        "## **Uji Hipostesis**\n",
        "\n",
        "Kami memiliki hipostesis bahwa jika angka Kesambuhan/hari akan memengaruhi angka Kematian/hari\n",
        "\n"
      ]
    },
    {
      "cell_type": "code",
      "metadata": {
        "colab": {
          "base_uri": "https://localhost:8080/",
          "height": 739
        },
        "id": "PHiSR-40ux3I",
        "outputId": "647dc4e2-272d-4f5c-9485-d7b2cf4abd1e"
      },
      "source": [
        "data_covid['Kasus Aktif Baru'].hist()\n",
        "\n",
        "stats.ttest_1samp(data_covid['Kasus Aktif Baru'], 100)\n",
        "# pvalue = 0.533, accept null hypothesis\n",
        "\n",
        "stats.ttest_1samp(data_covid['Kasus Aktif Baru'], 100)\n",
        "# pvalue = 0.002, reject null hypothesis\n",
        "\n",
        "# one-tailed, less than 130\n",
        "m = 130\n",
        "\n",
        "results = stats.ttest_1samp(data_covid['Kasus Aktif Baru'], m)\n",
        "alpha = 0.05\n",
        "if (results[0] < 0) & (results[1]/2 < alpha):\n",
        "  print(\"reject null hypothesis, mean is less than {}\".format(m))\n",
        "else:\n",
        "  print (\"Terima Hipotesis Kosong\")\n",
        "\n",
        "# one-tailed, greater than 80\n",
        "m = 80\n",
        "\n",
        "results = stats.ttest_1samp(data_covid['Kasus Aktif Baru'], m)\n",
        "alpha = 0.05\n",
        "\n",
        "if (results[0] > 0) & (results[1]/2 < alpha):\n",
        "  print(\"reject null hypothesis, mean is greater than {}\".format(m))\n",
        "else:\n",
        "  print (\"accept null hypothesis\")\n",
        "\n",
        "data_covid2= data_covid.mean()\n",
        "print(data_covid2)"
      ],
      "execution_count": null,
      "outputs": [
        {
          "output_type": "stream",
          "text": [
            "Terima Hipotesis Kosong\n",
            "reject null hypothesis, mean is greater than 80\n",
            "Kasus Baru             1838.471483\n",
            "Kematian Baru            59.315589\n",
            "Kesembuhan Baru        1546.053232\n",
            "Kasus Aktif Baru        233.102662\n",
            "Total Kasus          133457.893536\n",
            "Total Kematian         5207.292776\n",
            "Total Kesembuhan      97161.250951\n",
            "Total Kasus Aktif     31089.349810\n",
            "dtype: float64\n"
          ],
          "name": "stdout"
        },
        {
          "output_type": "display_data",
          "data": {
            "image/png": "[encoded data removed]",
            "text/plain": [
              "<Figure size 864x648 with 1 Axes>"
            ]
          },
          "metadata": {
            "tags": [],
            "needs_background": "light"
          }
        }
      ]
    },
    {
      "cell_type": "markdown",
      "metadata": {
        "id": "wNxa9bculR3J"
      },
      "source": [
        "## **Koefisien Korelasi**\n"
      ]
    },
    {
      "cell_type": "code",
      "metadata": {
        "colab": {
          "base_uri": "https://localhost:8080/"
        },
        "id": "_TzZIi1LlllA",
        "outputId": "d7aa5d75-f949-4d7f-f5cd-2973c35f8c40"
      },
      "source": [
        "corr, _ = pearsonr(X, Y)\n",
        "print('Nilai Korelasi Pearsons : %.3f' % corr)\n",
        "\n",
        "# Jika  > 0,7 berarti Linear"
      ],
      "execution_count": null,
      "outputs": [
        {
          "output_type": "stream",
          "text": [
            "Nilai Korelasi Pearsons : 0.857\n"
          ],
          "name": "stdout"
        }
      ]
    },
    {
      "cell_type": "markdown",
      "metadata": {
        "id": "uCWa3RIuflAh"
      },
      "source": [
        "## **Regresi Linear**"
      ]
    },
    {
      "cell_type": "markdown",
      "metadata": {
        "id": "EgHfFwPecy4k"
      },
      "source": [
        "### Menampilkan Grafik"
      ]
    },
    {
      "cell_type": "code",
      "metadata": {
        "colab": {
          "base_uri": "https://localhost:8080/",
          "height": 567
        },
        "id": "36AGT8FBX_yU",
        "outputId": "d39b34c9-128d-4b32-bfa7-0cb7a56c63ab"
      },
      "source": [
        "plt.rcParams['figure.figsize'] = (12.0, 9.0)\n",
        "\n",
        "plt.scatter(X, Y)\n",
        "plt.xlabel('Kesembuhan Baru')\n",
        "plt.ylabel('Kematian Baru')\n",
        "plt.title('Pengaruh Kesembuhan Baru ke tingkat Kematian Baru Covid-19 Indonesia')\n",
        "\n",
        "plt.show()"
      ],
      "execution_count": null,
      "outputs": [
        {
          "output_type": "display_data",
          "data": {
            "image/png": "[encoded data removed]",
            "text/plain": [
              "<Figure size 864x648 with 1 Axes>"
            ]
          },
          "metadata": {
            "tags": [],
            "needs_background": "light"
          }
        }
      ]
    },
    {
      "cell_type": "markdown",
      "metadata": {
        "id": "G_ymSiPvdOVW"
      },
      "source": [
        "### Membuat Model Persamaan Nilai Gradient dan Intercept"
      ]
    },
    {
      "cell_type": "code",
      "metadata": {
        "colab": {
          "base_uri": "https://localhost:8080/"
        },
        "id": "NOao0bG8Y_rL",
        "outputId": "0f7aeb3d-7ae3-4904-f962-45d69ebaa1e9"
      },
      "source": [
        "X_mean = np.mean(X)\n",
        "Y_mean = np.mean(Y)\n",
        "\n",
        "num = 0\n",
        "den = 0\n",
        "for i in range(len(X)):\n",
        "  num += (X[i] - X_mean)*(Y[i] - Y_mean)\n",
        "  den += (X[i] - X_mean)**2\n",
        "\n",
        "m = num/den\n",
        "c = Y_mean - m * X_mean\n",
        "\n",
        "print(\"Gradient = \",m, \"\\nIntercept = \",c)"
      ],
      "execution_count": null,
      "outputs": [
        {
          "output_type": "stream",
          "text": [
            "Gradient =  0.02227883738421622 \n",
            "Intercept =  24.871320811897625\n"
          ],
          "name": "stdout"
        }
      ]
    },
    {
      "cell_type": "markdown",
      "metadata": {
        "id": "TPm4qO0fdyLC"
      },
      "source": [
        "### Membuat Garis/Plot Prediksi"
      ]
    },
    {
      "cell_type": "code",
      "metadata": {
        "colab": {
          "base_uri": "https://localhost:8080/",
          "height": 537
        },
        "id": "FIUsJw5Wd4mu",
        "outputId": "9f4149b4-aed6-4237-8a7f-e83a634bb8bf"
      },
      "source": [
        "Y_pred = m * X + c\n",
        "\n",
        "plt.scatter(X, Y) # Sama kayak yang Menampilkan Dataset\n",
        "#plt.scatter(X, Y_pred, color='red')\n",
        "plt.plot([min(X), max(X)], [min(Y_pred), max(Y_pred)], color='red') # predicted\n",
        "plt.show()"
      ],
      "execution_count": null,
      "outputs": [
        {
          "output_type": "display_data",
          "data": {
            "image/png": "[encoded data removed]",
            "text/plain": [
              "<Figure size 864x648 with 1 Axes>"
            ]
          },
          "metadata": {
            "tags": [],
            "needs_background": "light"
          }
        }
      ]
    }
  ]
}